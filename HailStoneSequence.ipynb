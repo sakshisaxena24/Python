{
  "nbformat": 4,
  "nbformat_minor": 0,
  "metadata": {
    "colab": {
      "private_outputs": true,
      "provenance": [],
      "authorship_tag": "ABX9TyNbx1BMAE1IBxZAMgoVm/Si",
      "include_colab_link": true
    },
    "kernelspec": {
      "name": "python3",
      "display_name": "Python 3"
    },
    "language_info": {
      "name": "python"
    }
  },
  "cells": [
    {
      "cell_type": "markdown",
      "metadata": {
        "id": "view-in-github",
        "colab_type": "text"
      },
      "source": [
        "<a href=\"https://colab.research.google.com/github/sakshisaxena24/Python/blob/main/HailStoneSequence.ipynb\" target=\"_parent\"><img src=\"https://colab.research.google.com/assets/colab-badge.svg\" alt=\"Open In Colab\"/></a>"
      ]
    },
    {
      "cell_type": "code",
      "execution_count": null,
      "metadata": {
        "id": "Qhg6styvMp2F"
      },
      "outputs": [],
      "source": [
        "def generate_sequence(a, b, initial_value):\n",
        "    sequence = []\n",
        "    current_value = initial_value\n",
        "    sequence.append(current_value)\n",
        "    for _ in range(30):\n",
        "        if current_value % 2 == 0:\n",
        "            current_value = current_value // 2\n",
        "        else:\n",
        "            current_value = a * current_value + b\n",
        "        sequence.append(current_value)\n",
        "        if sequence[0] == current_value:  # Break if it loops back to the start\n",
        "            break\n",
        "    return sequence\n",
        "\n",
        "def count_unique_patterns(a, b):\n",
        "    unique_patterns = []\n",
        "    total_patterns = 0\n",
        "    for initial_value in range(1, 1001):  # Start sequences from 1 to 1000\n",
        "        sequence = generate_sequence(a, b, initial_value)\n",
        "        # Identify loops by checking if the sequence returns to its starting value\n",
        "        for i in range(2, len(sequence)):\n",
        "            if sequence[0] == sequence[i]:\n",
        "                pattern = set(sequence[:i + 1])\n",
        "                if pattern not in unique_patterns:\n",
        "                    unique_patterns.append(pattern)\n",
        "                    total_patterns += 1\n",
        "                    break\n",
        "    return total_patterns\n",
        "\n",
        "def main():\n",
        "    for a in range(1, 11):\n",
        "        for b in range(1, 11):\n",
        "            patterns_count = count_unique_patterns(a, b)\n",
        "            print(f\"Pairs ({a}, {b}) give {patterns_count} unique holding patterns.\")\n",
        "\n",
        "main()\n"
      ]
    },
    {
      "cell_type": "code",
      "source": [],
      "metadata": {
        "id": "1D7t3H3WWMdy"
      },
      "execution_count": null,
      "outputs": []
    }
  ]
}