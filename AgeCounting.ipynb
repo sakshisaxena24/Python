{
 "cells": [
  {
   "cell_type": "code",
   "execution_count": null,
   "id": "2a867ed3-5c43-461f-a7a9-aeb24f01bd3c",
   "metadata": {},
   "outputs": [],
   "source": [
    "import requests\n",
    "import sys\n",
    "from io import StringIO\n",
    "import numpy as np\n",
    "import pandas as pd\n",
    "\n",
    "r = requests.get('https://coderbyte.com/api/challenges/json/age-counting')\n",
    "raw_v = r.json()['data']\n",
    "\n",
    "raw_v = raw_v.replace(' ','')\n",
    "raw_v=raw_v.split(',')\n",
    "\n",
    "\n",
    "def age_counting(raw_v):\n",
    "    number = 0\n",
    "    for value in raw_v:\n",
    "        if 'age=' in value:\n",
    "            new_age = value.split(\"=\")\n",
    "            if(int(new_age[1]) >= 50):\n",
    "                number = number +1\n",
    "    return number\n",
    "\n",
    "print(\"Number of age greater than or equal to 50 is : \" , age_counting(raw_v))\n",
    "\n"
   ]
  }
 ],
 "metadata": {
  "kernelspec": {
   "display_name": "Python 3 (ipykernel)",
   "language": "python",
   "name": "python3"
  },
  "language_info": {
   "codemirror_mode": {
    "name": "ipython",
    "version": 3
   },
   "file_extension": ".py",
   "mimetype": "text/x-python",
   "name": "python",
   "nbconvert_exporter": "python",
   "pygments_lexer": "ipython3",
   "version": "3.8.18"
  }
 },
 "nbformat": 4,
 "nbformat_minor": 5
}
